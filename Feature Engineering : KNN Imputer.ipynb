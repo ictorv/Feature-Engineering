{
 "cells": [
  {
   "cell_type": "markdown",
   "id": "17e2ffbb",
   "metadata": {
    "papermill": {
     "duration": 0.006021,
     "end_time": "2023-02-28T08:42:38.035527",
     "exception": false,
     "start_time": "2023-02-28T08:42:38.029506",
     "status": "completed"
    },
    "tags": []
   },
   "source": [
    "# <center><span style=\"font-family:cursive;\">KNN Imputer</span></center>"
   ]
  },
  {
   "cell_type": "markdown",
   "id": "cf35e241",
   "metadata": {
    "papermill": {
     "duration": 0.00437,
     "end_time": "2023-02-28T08:42:38.044853",
     "exception": false,
     "start_time": "2023-02-28T08:42:38.040483",
     "status": "completed"
    },
    "tags": []
   },
   "source": [
    "![](https://editor.analyticsvidhya.com/uploads/35627knn.png)"
   ]
  },
  {
   "cell_type": "markdown",
   "id": "0c134b20",
   "metadata": {
    "papermill": {
     "duration": 0.00431,
     "end_time": "2023-02-28T08:42:38.053826",
     "exception": false,
     "start_time": "2023-02-28T08:42:38.049516",
     "status": "completed"
    },
    "tags": []
   },
   "source": [
    "# Working\n",
    "### Aim: Multivariate Imputation to Compute Missing Values\n"
   ]
  },
  {
   "cell_type": "markdown",
   "id": "92dc2696",
   "metadata": {
    "papermill": {
     "duration": 0.004286,
     "end_time": "2023-02-28T08:42:38.062713",
     "exception": false,
     "start_time": "2023-02-28T08:42:38.058427",
     "status": "completed"
    },
    "tags": []
   },
   "source": [
    "<div class=\"alert alert-block alert-success\" style=\"margin-left: 80px; margin-right: 80px\"> <h5 style='text-align:center;font-family:cursive'>Advantage</h5>\n",
    "      <p style=\"margin-left:80px\">1. Accuracy</p>\n",
    "</div>"
   ]
  },
  {
   "cell_type": "markdown",
   "id": "c04140ed",
   "metadata": {
    "papermill": {
     "duration": 0.004339,
     "end_time": "2023-02-28T08:42:38.071586",
     "exception": false,
     "start_time": "2023-02-28T08:42:38.067247",
     "status": "completed"
    },
    "tags": []
   },
   "source": [
    "<div class=\"alert alert-block alert-warning\" style=\"margin-left: 80px; margin-right: 80px\"> <h5 style='text-align:center'>Disadvantage</h5>\n",
    "      <p style=\"margin-left:80px\">1. Mathematical Calculation<br>2. Need to store training dataset in production to Handle upcoming missing data</p>\n",
    "</div>"
   ]
  },
  {
   "cell_type": "markdown",
   "id": "2dcffade",
   "metadata": {
    "papermill": {
     "duration": 0.004239,
     "end_time": "2023-02-28T08:42:38.080397",
     "exception": false,
     "start_time": "2023-02-28T08:42:38.076158",
     "status": "completed"
    },
    "tags": []
   },
   "source": [
    "**In this imputation we take help of other columns using NaN-Eucliden-Distance** \n",
    "> ### $ distance = \\sqrt{weight * (x_1-x_2)^2 + (y_1-y_2)^2}$\n",
    "> **where,**\n",
    "> >**${weight} = \\frac{Total  no.  of  coordinate}{ Total  no.  of available  coordinate}$**"
   ]
  },
  {
   "cell_type": "markdown",
   "id": "a50ddc2f",
   "metadata": {
    "papermill": {
     "duration": 0.004253,
     "end_time": "2023-02-28T08:42:38.089165",
     "exception": false,
     "start_time": "2023-02-28T08:42:38.084912",
     "status": "completed"
    },
    "tags": []
   },
   "source": [
    "<div style=\"color:white;\n",
    "           display:fill;\n",
    "           border-radius:5px;\n",
    "           background-color:lightblue;\n",
    "           font-size:110%;\n",
    "           font-family:Verdana;\n",
    "           letter-spacing:0.5px\">\n",
    "\n",
    "<p style=\"padding: 15px; color:white; text-align:center\"><b>Importing Required Modules</b></p>\n",
    "</div>"
   ]
  },
  {
   "cell_type": "code",
   "execution_count": 1,
   "id": "10e5da0f",
   "metadata": {
    "execution": {
     "iopub.execute_input": "2023-02-28T08:42:38.100478Z",
     "iopub.status.busy": "2023-02-28T08:42:38.099995Z",
     "iopub.status.idle": "2023-02-28T08:42:39.597100Z",
     "shell.execute_reply": "2023-02-28T08:42:39.596036Z"
    },
    "papermill": {
     "duration": 1.506595,
     "end_time": "2023-02-28T08:42:39.600325",
     "exception": false,
     "start_time": "2023-02-28T08:42:38.093730",
     "status": "completed"
    },
    "tags": []
   },
   "outputs": [],
   "source": [
    "import numpy as np\n",
    "import pandas as pd\n",
    "\n",
    "from sklearn.model_selection import train_test_split\n",
    "\n",
    "from sklearn.impute import KNNImputer\n",
    "from sklearn.linear_model import LogisticRegression\n",
    "\n",
    "from sklearn.metrics import accuracy_score"
   ]
  },
  {
   "cell_type": "code",
   "execution_count": 2,
   "id": "c8bb42a2",
   "metadata": {
    "execution": {
     "iopub.execute_input": "2023-02-28T08:42:39.613820Z",
     "iopub.status.busy": "2023-02-28T08:42:39.612545Z",
     "iopub.status.idle": "2023-02-28T08:42:39.711784Z",
     "shell.execute_reply": "2023-02-28T08:42:39.710649Z"
    },
    "papermill": {
     "duration": 0.109387,
     "end_time": "2023-02-28T08:42:39.714825",
     "exception": false,
     "start_time": "2023-02-28T08:42:39.605438",
     "status": "completed"
    },
    "tags": []
   },
   "outputs": [],
   "source": [
    "df=pd.read_csv('/kaggle/input/data-science-job/data_science_job.csv')[['city_development_index','city_development_index','experience','training_hours','target']]"
   ]
  },
  {
   "cell_type": "code",
   "execution_count": 3,
   "id": "9ac77d54",
   "metadata": {
    "execution": {
     "iopub.execute_input": "2023-02-28T08:42:39.727813Z",
     "iopub.status.busy": "2023-02-28T08:42:39.726988Z",
     "iopub.status.idle": "2023-02-28T08:42:39.756718Z",
     "shell.execute_reply": "2023-02-28T08:42:39.755395Z"
    },
    "papermill": {
     "duration": 0.03985,
     "end_time": "2023-02-28T08:42:39.759838",
     "exception": false,
     "start_time": "2023-02-28T08:42:39.719988",
     "status": "completed"
    },
    "tags": []
   },
   "outputs": [
    {
     "data": {
      "text/html": [
       "<div>\n",
       "<style scoped>\n",
       "    .dataframe tbody tr th:only-of-type {\n",
       "        vertical-align: middle;\n",
       "    }\n",
       "\n",
       "    .dataframe tbody tr th {\n",
       "        vertical-align: top;\n",
       "    }\n",
       "\n",
       "    .dataframe thead th {\n",
       "        text-align: right;\n",
       "    }\n",
       "</style>\n",
       "<table border=\"1\" class=\"dataframe\">\n",
       "  <thead>\n",
       "    <tr style=\"text-align: right;\">\n",
       "      <th></th>\n",
       "      <th>city_development_index</th>\n",
       "      <th>city_development_index</th>\n",
       "      <th>experience</th>\n",
       "      <th>training_hours</th>\n",
       "      <th>target</th>\n",
       "    </tr>\n",
       "  </thead>\n",
       "  <tbody>\n",
       "    <tr>\n",
       "      <th>0</th>\n",
       "      <td>0.920</td>\n",
       "      <td>0.920</td>\n",
       "      <td>20.0</td>\n",
       "      <td>36.0</td>\n",
       "      <td>1.0</td>\n",
       "    </tr>\n",
       "    <tr>\n",
       "      <th>1</th>\n",
       "      <td>0.776</td>\n",
       "      <td>0.776</td>\n",
       "      <td>15.0</td>\n",
       "      <td>47.0</td>\n",
       "      <td>0.0</td>\n",
       "    </tr>\n",
       "    <tr>\n",
       "      <th>2</th>\n",
       "      <td>0.624</td>\n",
       "      <td>0.624</td>\n",
       "      <td>5.0</td>\n",
       "      <td>83.0</td>\n",
       "      <td>0.0</td>\n",
       "    </tr>\n",
       "    <tr>\n",
       "      <th>3</th>\n",
       "      <td>0.789</td>\n",
       "      <td>0.789</td>\n",
       "      <td>0.0</td>\n",
       "      <td>52.0</td>\n",
       "      <td>1.0</td>\n",
       "    </tr>\n",
       "    <tr>\n",
       "      <th>4</th>\n",
       "      <td>0.767</td>\n",
       "      <td>0.767</td>\n",
       "      <td>20.0</td>\n",
       "      <td>8.0</td>\n",
       "      <td>0.0</td>\n",
       "    </tr>\n",
       "  </tbody>\n",
       "</table>\n",
       "</div>"
      ],
      "text/plain": [
       "   city_development_index  city_development_index  experience  training_hours  \\\n",
       "0                   0.920                   0.920        20.0            36.0   \n",
       "1                   0.776                   0.776        15.0            47.0   \n",
       "2                   0.624                   0.624         5.0            83.0   \n",
       "3                   0.789                   0.789         0.0            52.0   \n",
       "4                   0.767                   0.767        20.0             8.0   \n",
       "\n",
       "   target  \n",
       "0     1.0  \n",
       "1     0.0  \n",
       "2     0.0  \n",
       "3     1.0  \n",
       "4     0.0  "
      ]
     },
     "execution_count": 3,
     "metadata": {},
     "output_type": "execute_result"
    }
   ],
   "source": [
    "df.head()"
   ]
  },
  {
   "cell_type": "code",
   "execution_count": 4,
   "id": "56b7b9b3",
   "metadata": {
    "execution": {
     "iopub.execute_input": "2023-02-28T08:42:39.773670Z",
     "iopub.status.busy": "2023-02-28T08:42:39.772416Z",
     "iopub.status.idle": "2023-02-28T08:42:39.783350Z",
     "shell.execute_reply": "2023-02-28T08:42:39.782036Z"
    },
    "papermill": {
     "duration": 0.021009,
     "end_time": "2023-02-28T08:42:39.786382",
     "exception": false,
     "start_time": "2023-02-28T08:42:39.765373",
     "status": "completed"
    },
    "tags": []
   },
   "outputs": [
    {
     "data": {
      "text/plain": [
       "city_development_index    479\n",
       "city_development_index    479\n",
       "experience                 65\n",
       "training_hours            766\n",
       "target                      0\n",
       "dtype: int64"
      ]
     },
     "execution_count": 4,
     "metadata": {},
     "output_type": "execute_result"
    }
   ],
   "source": [
    "df.isnull().sum()"
   ]
  },
  {
   "cell_type": "code",
   "execution_count": 5,
   "id": "3892424e",
   "metadata": {
    "execution": {
     "iopub.execute_input": "2023-02-28T08:42:39.799807Z",
     "iopub.status.busy": "2023-02-28T08:42:39.799268Z",
     "iopub.status.idle": "2023-02-28T08:42:39.815388Z",
     "shell.execute_reply": "2023-02-28T08:42:39.813479Z"
    },
    "papermill": {
     "duration": 0.02603,
     "end_time": "2023-02-28T08:42:39.818033",
     "exception": false,
     "start_time": "2023-02-28T08:42:39.792003",
     "status": "completed"
    },
    "tags": []
   },
   "outputs": [],
   "source": [
    "X=df.drop(columns=['target'])\n",
    "y=df['target']"
   ]
  },
  {
   "cell_type": "code",
   "execution_count": 6,
   "id": "e1594135",
   "metadata": {
    "execution": {
     "iopub.execute_input": "2023-02-28T08:42:39.831922Z",
     "iopub.status.busy": "2023-02-28T08:42:39.830882Z",
     "iopub.status.idle": "2023-02-28T08:42:39.844355Z",
     "shell.execute_reply": "2023-02-28T08:42:39.842904Z"
    },
    "papermill": {
     "duration": 0.024156,
     "end_time": "2023-02-28T08:42:39.847605",
     "exception": false,
     "start_time": "2023-02-28T08:42:39.823449",
     "status": "completed"
    },
    "tags": []
   },
   "outputs": [],
   "source": [
    "X_train,X_test,y_train,y_test=train_test_split(X,y,test_size=0.2,random_state=42)"
   ]
  },
  {
   "cell_type": "markdown",
   "id": "e5ce0646",
   "metadata": {
    "papermill": {
     "duration": 0.004911,
     "end_time": "2023-02-28T08:42:39.857992",
     "exception": false,
     "start_time": "2023-02-28T08:42:39.853081",
     "status": "completed"
    },
    "tags": []
   },
   "source": [
    "# KNN Imputer Code"
   ]
  },
  {
   "cell_type": "code",
   "execution_count": 7,
   "id": "32072709",
   "metadata": {
    "execution": {
     "iopub.execute_input": "2023-02-28T08:42:39.870767Z",
     "iopub.status.busy": "2023-02-28T08:42:39.870059Z",
     "iopub.status.idle": "2023-02-28T08:42:41.790718Z",
     "shell.execute_reply": "2023-02-28T08:42:41.789301Z"
    },
    "papermill": {
     "duration": 1.930702,
     "end_time": "2023-02-28T08:42:41.793900",
     "exception": false,
     "start_time": "2023-02-28T08:42:39.863198",
     "status": "completed"
    },
    "tags": []
   },
   "outputs": [],
   "source": [
    "knn=KNNImputer()\n",
    "X_train_trf=knn.fit_transform(X_train)\n",
    "X_test_trf=knn.transform(X_test)"
   ]
  },
  {
   "cell_type": "markdown",
   "id": "0141f2e6",
   "metadata": {
    "papermill": {
     "duration": 0.004983,
     "end_time": "2023-02-28T08:42:41.804447",
     "exception": false,
     "start_time": "2023-02-28T08:42:41.799464",
     "status": "completed"
    },
    "tags": []
   },
   "source": [
    "**Parameters** \n",
    "> * missing_values : int, float, str, np.nan or None, default=np.nan\n",
    "> * n_neighbors : int, default=5\n",
    "> * weights : {‘uniform’, ‘distance’} or callable, default=’uniform’\n",
    "> * metric : {‘nan_euclidean’} or callable, default=’nan_euclidean’\n",
    "> * copy : bool, default=True\n",
    "> * add_indicator : bool, default=False\n",
    "> * keep_empty_features : bool, default=False"
   ]
  },
  {
   "cell_type": "code",
   "execution_count": 8,
   "id": "d260b0ea",
   "metadata": {
    "execution": {
     "iopub.execute_input": "2023-02-28T08:42:41.817806Z",
     "iopub.status.busy": "2023-02-28T08:42:41.817287Z",
     "iopub.status.idle": "2023-02-28T08:42:41.836384Z",
     "shell.execute_reply": "2023-02-28T08:42:41.835214Z"
    },
    "papermill": {
     "duration": 0.029161,
     "end_time": "2023-02-28T08:42:41.838989",
     "exception": false,
     "start_time": "2023-02-28T08:42:41.809828",
     "status": "completed"
    },
    "tags": []
   },
   "outputs": [
    {
     "data": {
      "text/html": [
       "<div>\n",
       "<style scoped>\n",
       "    .dataframe tbody tr th:only-of-type {\n",
       "        vertical-align: middle;\n",
       "    }\n",
       "\n",
       "    .dataframe tbody tr th {\n",
       "        vertical-align: top;\n",
       "    }\n",
       "\n",
       "    .dataframe thead th {\n",
       "        text-align: right;\n",
       "    }\n",
       "</style>\n",
       "<table border=\"1\" class=\"dataframe\">\n",
       "  <thead>\n",
       "    <tr style=\"text-align: right;\">\n",
       "      <th></th>\n",
       "      <th>city_development_index</th>\n",
       "      <th>city_development_index</th>\n",
       "      <th>experience</th>\n",
       "      <th>training_hours</th>\n",
       "    </tr>\n",
       "  </thead>\n",
       "  <tbody>\n",
       "    <tr>\n",
       "      <th>0</th>\n",
       "      <td>0.9100</td>\n",
       "      <td>0.9100</td>\n",
       "      <td>2.0</td>\n",
       "      <td>16.0</td>\n",
       "    </tr>\n",
       "    <tr>\n",
       "      <th>1</th>\n",
       "      <td>0.8970</td>\n",
       "      <td>0.8970</td>\n",
       "      <td>6.0</td>\n",
       "      <td>262.0</td>\n",
       "    </tr>\n",
       "    <tr>\n",
       "      <th>2</th>\n",
       "      <td>0.9100</td>\n",
       "      <td>0.9100</td>\n",
       "      <td>3.0</td>\n",
       "      <td>24.0</td>\n",
       "    </tr>\n",
       "    <tr>\n",
       "      <th>3</th>\n",
       "      <td>0.9100</td>\n",
       "      <td>0.9100</td>\n",
       "      <td>3.0</td>\n",
       "      <td>35.0</td>\n",
       "    </tr>\n",
       "    <tr>\n",
       "      <th>4</th>\n",
       "      <td>0.6596</td>\n",
       "      <td>0.6596</td>\n",
       "      <td>4.0</td>\n",
       "      <td>43.0</td>\n",
       "    </tr>\n",
       "    <tr>\n",
       "      <th>...</th>\n",
       "      <td>...</td>\n",
       "      <td>...</td>\n",
       "      <td>...</td>\n",
       "      <td>...</td>\n",
       "    </tr>\n",
       "    <tr>\n",
       "      <th>15321</th>\n",
       "      <td>0.9200</td>\n",
       "      <td>0.9200</td>\n",
       "      <td>20.0</td>\n",
       "      <td>25.0</td>\n",
       "    </tr>\n",
       "    <tr>\n",
       "      <th>15322</th>\n",
       "      <td>0.8660</td>\n",
       "      <td>0.8660</td>\n",
       "      <td>4.0</td>\n",
       "      <td>122.0</td>\n",
       "    </tr>\n",
       "    <tr>\n",
       "      <th>15323</th>\n",
       "      <td>0.8930</td>\n",
       "      <td>0.8930</td>\n",
       "      <td>10.0</td>\n",
       "      <td>57.0</td>\n",
       "    </tr>\n",
       "    <tr>\n",
       "      <th>15324</th>\n",
       "      <td>0.6240</td>\n",
       "      <td>0.6240</td>\n",
       "      <td>5.0</td>\n",
       "      <td>16.0</td>\n",
       "    </tr>\n",
       "    <tr>\n",
       "      <th>15325</th>\n",
       "      <td>0.8660</td>\n",
       "      <td>0.8660</td>\n",
       "      <td>20.0</td>\n",
       "      <td>50.0</td>\n",
       "    </tr>\n",
       "  </tbody>\n",
       "</table>\n",
       "<p>15326 rows × 4 columns</p>\n",
       "</div>"
      ],
      "text/plain": [
       "       city_development_index  city_development_index  experience  \\\n",
       "0                      0.9100                  0.9100         2.0   \n",
       "1                      0.8970                  0.8970         6.0   \n",
       "2                      0.9100                  0.9100         3.0   \n",
       "3                      0.9100                  0.9100         3.0   \n",
       "4                      0.6596                  0.6596         4.0   \n",
       "...                       ...                     ...         ...   \n",
       "15321                  0.9200                  0.9200        20.0   \n",
       "15322                  0.8660                  0.8660         4.0   \n",
       "15323                  0.8930                  0.8930        10.0   \n",
       "15324                  0.6240                  0.6240         5.0   \n",
       "15325                  0.8660                  0.8660        20.0   \n",
       "\n",
       "       training_hours  \n",
       "0                16.0  \n",
       "1               262.0  \n",
       "2                24.0  \n",
       "3                35.0  \n",
       "4                43.0  \n",
       "...               ...  \n",
       "15321            25.0  \n",
       "15322           122.0  \n",
       "15323            57.0  \n",
       "15324            16.0  \n",
       "15325            50.0  \n",
       "\n",
       "[15326 rows x 4 columns]"
      ]
     },
     "execution_count": 8,
     "metadata": {},
     "output_type": "execute_result"
    }
   ],
   "source": [
    "pd.DataFrame(X_train_trf,columns=X_train.columns)"
   ]
  },
  {
   "cell_type": "markdown",
   "id": "9f0080d4",
   "metadata": {
    "papermill": {
     "duration": 0.005258,
     "end_time": "2023-02-28T08:42:41.850171",
     "exception": false,
     "start_time": "2023-02-28T08:42:41.844913",
     "status": "completed"
    },
    "tags": []
   },
   "source": [
    "<div style=\"color:white;\n",
    "           display:fill;\n",
    "           border-radius:5px;\n",
    "           background-color:lightblue;\n",
    "           font-size:110%;\n",
    "           font-family:Verdana;\n",
    "           letter-spacing:0.5px\">\n",
    "\n",
    "<p style=\"padding: 15px; color:white; text-align:center\"><b>Fitting into Model</b></p>\n",
    "</div>"
   ]
  },
  {
   "cell_type": "code",
   "execution_count": 9,
   "id": "6420d0be",
   "metadata": {
    "execution": {
     "iopub.execute_input": "2023-02-28T08:42:41.864202Z",
     "iopub.status.busy": "2023-02-28T08:42:41.863716Z",
     "iopub.status.idle": "2023-02-28T08:42:41.982970Z",
     "shell.execute_reply": "2023-02-28T08:42:41.981151Z"
    },
    "papermill": {
     "duration": 0.131967,
     "end_time": "2023-02-28T08:42:41.988002",
     "exception": false,
     "start_time": "2023-02-28T08:42:41.856035",
     "status": "completed"
    },
    "tags": []
   },
   "outputs": [
    {
     "data": {
      "text/plain": [
       "0.7664405010438413"
      ]
     },
     "execution_count": 9,
     "metadata": {},
     "output_type": "execute_result"
    }
   ],
   "source": [
    "lr=LogisticRegression()\n",
    "lr.fit(X_train_trf,y_train)\n",
    "y_pred=lr.predict(X_test_trf)\n",
    "accuracy_score(y_test,y_pred)"
   ]
  }
 ],
 "metadata": {
  "kernelspec": {
   "display_name": "Python 3",
   "language": "python",
   "name": "python3"
  },
  "language_info": {
   "codemirror_mode": {
    "name": "ipython",
    "version": 3
   },
   "file_extension": ".py",
   "mimetype": "text/x-python",
   "name": "python",
   "nbconvert_exporter": "python",
   "pygments_lexer": "ipython3",
   "version": "3.7.12"
  },
  "papermill": {
   "default_parameters": {},
   "duration": 16.799557,
   "end_time": "2023-02-28T08:42:43.040298",
   "environment_variables": {},
   "exception": null,
   "input_path": "__notebook__.ipynb",
   "output_path": "__notebook__.ipynb",
   "parameters": {},
   "start_time": "2023-02-28T08:42:26.240741",
   "version": "2.4.0"
  }
 },
 "nbformat": 4,
 "nbformat_minor": 5
}
